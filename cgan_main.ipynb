{
  "nbformat": 4,
  "nbformat_minor": 0,
  "metadata": {
    "colab": {
      "name": "cgan_main.ipynb",
      "provenance": [],
      "collapsed_sections": [],
      "mount_file_id": "1YNJgLwtxAOLdUW8Wd0pgMdTFF5z0DJzH",
      "authorship_tag": "ABX9TyOC9eavBk5l5+5THq0FZQGu",
      "include_colab_link": true
    },
    "kernelspec": {
      "name": "python3",
      "display_name": "Python 3"
    },
    "language_info": {
      "name": "python"
    },
    "accelerator": "GPU"
  },
  "cells": [
    {
      "cell_type": "markdown",
      "metadata": {
        "id": "view-in-github",
        "colab_type": "text"
      },
      "source": [
        "<a href=\"https://colab.research.google.com/github/adarsh2313/edge-generation-cGAN/blob/main/cgan_main.ipynb\" target=\"_parent\"><img src=\"https://colab.research.google.com/assets/colab-badge.svg\" alt=\"Open In Colab\"/></a>"
      ]
    },
    {
      "cell_type": "code",
      "metadata": {
        "id": "7nm43GQSalIV"
      },
      "source": [
        "import torch\n",
        "import torch.nn as nn \n",
        "import torch.optim as optim\n",
        "from torchvision.datasets import ImageFolder\n",
        "from torch.utils.data import DataLoader\n",
        "import torchvision.transforms as transforms\n",
        "%matplotlib inline \n",
        "import matplotlib.pyplot as plt"
      ],
      "execution_count": null,
      "outputs": []
    },
    {
      "cell_type": "code",
      "metadata": {
        "id": "BHpbcfUuC15m"
      },
      "source": [
        "trans = transforms.Compose([transforms.Grayscale(),transforms.ToTensor()])\n",
        "data_set = ImageFolder('/content/drive/MyDrive/projects/Dataset',transform=trans)\n",
        "data_loader = DataLoader(data_set,batch_size=100)"
      ],
      "execution_count": null,
      "outputs": []
    },
    {
      "cell_type": "code",
      "metadata": {
        "colab": {
          "base_uri": "https://localhost:8080/",
          "height": 249
        },
        "id": "LBYsrinFPOGm",
        "outputId": "f96e91f4-b81d-4d8c-fd80-e300c83a0471"
      },
      "source": [
        "fig = plt.figure(figsize=(32,32))\n",
        "fig.add_subplot(8,8,1)\n",
        "plt.gray()\n",
        "plt.imshow(data_set[979][0].view(8,8))\n",
        "plt.title('vertical edge')\n",
        "fig.add_subplot(8,8,2)\n",
        "plt.imshow(data_set[250][0].view(8,8))\n",
        "plt.title('horizontal edge')\n",
        "plt.show()"
      ],
      "execution_count": null,
      "outputs": [
        {
          "output_type": "display_data",
          "data": {
            "image/png": "[encoded data removed]",
            "text/plain": [
              "<Figure size 2304x2304 with 2 Axes>"
            ]
          },
          "metadata": {
            "needs_background": "light"
          }
        }
      ]
    },
    {
      "cell_type": "code",
      "metadata": {
        "colab": {
          "base_uri": "https://localhost:8080/"
        },
        "id": "0TIIxOqrguKR",
        "outputId": "7bc5ede3-4178-408e-d320-a2231f0249bd"
      },
      "source": [
        "device = torch.device(\"cuda\")\n",
        "torch.cuda.empty_cache()\n",
        "from model1 import generator,discriminator\n",
        "generator,discriminator = generator.to(device),discriminator.to(device)\n",
        "print(generator)\n",
        "print(discriminator)"
      ],
      "execution_count": null,
      "outputs": [
        {
          "output_type": "stream",
          "name": "stdout",
          "text": [
            "Generator(\n",
            "  (embed): Embedding(2, 64)\n",
            "  (changenoise): Sequential(\n",
            "    (0): Linear(in_features=100, out_features=32704, bias=True)\n",
            "    (1): ReLU()\n",
            "  )\n",
            "  (model): Sequential(\n",
            "    (0): ConvTranspose2d(512, 256, kernel_size=(3, 3), stride=(1, 1), padding=(1, 1), bias=False)\n",
            "    (1): BatchNorm2d(256, eps=1e-05, momentum=0.1, affine=True, track_running_stats=True)\n",
            "    (2): ReLU()\n",
            "    (3): ConvTranspose2d(256, 128, kernel_size=(3, 3), stride=(1, 1), padding=(1, 1), bias=False)\n",
            "    (4): BatchNorm2d(128, eps=1e-05, momentum=0.1, affine=True, track_running_stats=True)\n",
            "    (5): ReLU()\n",
            "    (6): ConvTranspose2d(128, 64, kernel_size=(3, 3), stride=(1, 1), padding=(1, 1), bias=False)\n",
            "    (7): BatchNorm2d(64, eps=1e-05, momentum=0.1, affine=True, track_running_stats=True)\n",
            "    (8): ReLU()\n",
            "    (9): ConvTranspose2d(64, 32, kernel_size=(3, 3), stride=(1, 1), padding=(1, 1), bias=False)\n",
            "    (10): BatchNorm2d(32, eps=1e-05, momentum=0.1, affine=True, track_running_stats=True)\n",
            "    (11): ReLU()\n",
            "    (12): ConvTranspose2d(32, 16, kernel_size=(3, 3), stride=(1, 1), padding=(1, 1), bias=False)\n",
            "    (13): BatchNorm2d(16, eps=1e-05, momentum=0.1, affine=True, track_running_stats=True)\n",
            "    (14): ReLU()\n",
            "    (15): ConvTranspose2d(16, 8, kernel_size=(3, 3), stride=(1, 1), padding=(1, 1), bias=False)\n",
            "    (16): BatchNorm2d(8, eps=1e-05, momentum=0.1, affine=True, track_running_stats=True)\n",
            "    (17): ReLU()\n",
            "    (18): ConvTranspose2d(8, 1, kernel_size=(3, 3), stride=(1, 1), padding=(1, 1), bias=False)\n",
            "    (19): Tanh()\n",
            "  )\n",
            ")\n",
            "Discriminator(\n",
            "  (embed): Embedding(2, 64)\n",
            "  (model): Sequential(\n",
            "    (0): Conv2d(2, 32, kernel_size=(3, 3), stride=(2, 2), bias=False)\n",
            "    (1): BatchNorm2d(32, eps=1e-05, momentum=0.1, affine=True, track_running_stats=True)\n",
            "    (2): ReLU()\n",
            "    (3): Conv2d(32, 64, kernel_size=(3, 3), stride=(2, 2), bias=False)\n",
            "    (4): BatchNorm2d(64, eps=1e-05, momentum=0.1, affine=True, track_running_stats=True)\n",
            "    (5): ReLU()\n",
            "    (6): Flatten(start_dim=1, end_dim=-1)\n",
            "    (7): Linear(in_features=64, out_features=1, bias=True)\n",
            "    (8): Sigmoid()\n",
            "  )\n",
            ")\n"
          ]
        }
      ]
    },
    {
      "cell_type": "markdown",
      "metadata": {
        "id": "1MMpjZ2jEHMY"
      },
      "source": [
        "Training function:"
      ]
    },
    {
      "cell_type": "code",
      "metadata": {
        "id": "QgY4d2DiEy94"
      },
      "source": [
        "n_epoch = 250\n",
        "batch_size = 100\n",
        "D_optimizer = optim.Adam(discriminator.parameters(), lr=0.002)\n",
        "G_optimizer = optim.Adam(generator.parameters(), lr=0.002)\n",
        "dloss = nn.BCELoss()\n",
        "gloss = nn.BCELoss()"
      ],
      "execution_count": null,
      "outputs": []
    },
    {
      "cell_type": "code",
      "metadata": {
        "colab": {
          "base_uri": "https://localhost:8080/"
        },
        "id": "JSDk4tJlJwO2",
        "outputId": "f59e7766-c226-4664-9863-21c423ae3a36"
      },
      "source": [
        "for epoch in range(n_epoch):\n",
        "  \n",
        "  for _,inputs in enumerate(data_loader):\n",
        "\n",
        "    real_images,label = inputs\n",
        "    real_images,label = real_images.to(device),label.to(device)\n",
        "\n",
        "    noise = torch.randn(batch_size,100).to(device)\n",
        "    fake_target = torch.zeros(batch_size,1).to(device)\n",
        "    real_target = torch.ones(batch_size,1).to(device)\n",
        "\n",
        "    D_optimizer.zero_grad()\n",
        "    xx = discriminator(real_images,label)\n",
        "    D_real_loss = dloss(xx, real_target)\n",
        "\n",
        "    generated_image = generator(noise, fake_target.int())\n",
        "    output = discriminator(generated_image, label)\n",
        "    D_fake_loss = dloss(output, fake_target)\n",
        "\n",
        "    # For discriminator:\n",
        "    D_total_loss = (D_real_loss + D_fake_loss)/2\n",
        "    D_total_loss = D_total_loss.to(torch.float32)\n",
        "    D_total_loss.backward(retain_graph=True)\n",
        "    D_optimizer.step()\n",
        "\n",
        "    # For generator:\n",
        "    G_optimizer.zero_grad()\n",
        "    yy = discriminator(generated_image, label)\n",
        "    G_loss = gloss(yy, real_target)\n",
        "    G_loss.backward()\n",
        "    G_optimizer.step()\n",
        "\n",
        "  if epoch%10 == 0:\n",
        "    print('D_loss:',D_total_loss,'G_loss:',G_loss)"
      ],
      "execution_count": null,
      "outputs": [
        {
          "output_type": "stream",
          "name": "stdout",
          "text": [
            "D_loss: tensor(0.6779, device='cuda:0', grad_fn=<DivBackward0>) G_loss: tensor(0.7007, device='cuda:0', grad_fn=<BinaryCrossEntropyBackward>)\n",
            "D_loss: tensor(0.5150, device='cuda:0', grad_fn=<DivBackward0>) G_loss: tensor(0.9489, device='cuda:0', grad_fn=<BinaryCrossEntropyBackward>)\n",
            "D_loss: tensor(0.3047, device='cuda:0', grad_fn=<DivBackward0>) G_loss: tensor(1.3993, device='cuda:0', grad_fn=<BinaryCrossEntropyBackward>)\n",
            "D_loss: tensor(0.2186, device='cuda:0', grad_fn=<DivBackward0>) G_loss: tensor(2.0063, device='cuda:0', grad_fn=<BinaryCrossEntropyBackward>)\n",
            "D_loss: tensor(0.1421, device='cuda:0', grad_fn=<DivBackward0>) G_loss: tensor(2.3810, device='cuda:0', grad_fn=<BinaryCrossEntropyBackward>)\n",
            "D_loss: tensor(0.1475, device='cuda:0', grad_fn=<DivBackward0>) G_loss: tensor(2.5349, device='cuda:0', grad_fn=<BinaryCrossEntropyBackward>)\n",
            "D_loss: tensor(0.0761, device='cuda:0', grad_fn=<DivBackward0>) G_loss: tensor(3.3095, device='cuda:0', grad_fn=<BinaryCrossEntropyBackward>)\n",
            "D_loss: tensor(0.1033, device='cuda:0', grad_fn=<DivBackward0>) G_loss: tensor(3.1899, device='cuda:0', grad_fn=<BinaryCrossEntropyBackward>)\n",
            "D_loss: tensor(0.0635, device='cuda:0', grad_fn=<DivBackward0>) G_loss: tensor(2.8411, device='cuda:0', grad_fn=<BinaryCrossEntropyBackward>)\n",
            "D_loss: tensor(0.0233, device='cuda:0', grad_fn=<DivBackward0>) G_loss: tensor(3.9314, device='cuda:0', grad_fn=<BinaryCrossEntropyBackward>)\n",
            "D_loss: tensor(0.0478, device='cuda:0', grad_fn=<DivBackward0>) G_loss: tensor(3.1809, device='cuda:0', grad_fn=<BinaryCrossEntropyBackward>)\n",
            "D_loss: tensor(0.0260, device='cuda:0', grad_fn=<DivBackward0>) G_loss: tensor(3.9377, device='cuda:0', grad_fn=<BinaryCrossEntropyBackward>)\n",
            "D_loss: tensor(0.0151, device='cuda:0', grad_fn=<DivBackward0>) G_loss: tensor(4.4020, device='cuda:0', grad_fn=<BinaryCrossEntropyBackward>)\n",
            "D_loss: tensor(0.0150, device='cuda:0', grad_fn=<DivBackward0>) G_loss: tensor(4.3373, device='cuda:0', grad_fn=<BinaryCrossEntropyBackward>)\n",
            "D_loss: tensor(0.0126, device='cuda:0', grad_fn=<DivBackward0>) G_loss: tensor(4.2911, device='cuda:0', grad_fn=<BinaryCrossEntropyBackward>)\n",
            "D_loss: tensor(0.0086, device='cuda:0', grad_fn=<DivBackward0>) G_loss: tensor(4.9610, device='cuda:0', grad_fn=<BinaryCrossEntropyBackward>)\n",
            "D_loss: tensor(0.0072, device='cuda:0', grad_fn=<DivBackward0>) G_loss: tensor(5.0869, device='cuda:0', grad_fn=<BinaryCrossEntropyBackward>)\n",
            "D_loss: tensor(0.0166, device='cuda:0', grad_fn=<DivBackward0>) G_loss: tensor(4.9776, device='cuda:0', grad_fn=<BinaryCrossEntropyBackward>)\n",
            "D_loss: tensor(0.0115, device='cuda:0', grad_fn=<DivBackward0>) G_loss: tensor(5.5764, device='cuda:0', grad_fn=<BinaryCrossEntropyBackward>)\n",
            "D_loss: tensor(0.0168, device='cuda:0', grad_fn=<DivBackward0>) G_loss: tensor(5.2519, device='cuda:0', grad_fn=<BinaryCrossEntropyBackward>)\n",
            "D_loss: tensor(0.0151, device='cuda:0', grad_fn=<DivBackward0>) G_loss: tensor(5.5925, device='cuda:0', grad_fn=<BinaryCrossEntropyBackward>)\n",
            "D_loss: tensor(0.0093, device='cuda:0', grad_fn=<DivBackward0>) G_loss: tensor(6.2534, device='cuda:0', grad_fn=<BinaryCrossEntropyBackward>)\n",
            "D_loss: tensor(0.0074, device='cuda:0', grad_fn=<DivBackward0>) G_loss: tensor(6.0372, device='cuda:0', grad_fn=<BinaryCrossEntropyBackward>)\n",
            "D_loss: tensor(0.0084, device='cuda:0', grad_fn=<DivBackward0>) G_loss: tensor(6.9028, device='cuda:0', grad_fn=<BinaryCrossEntropyBackward>)\n",
            "D_loss: tensor(0.0076, device='cuda:0', grad_fn=<DivBackward0>) G_loss: tensor(6.5056, device='cuda:0', grad_fn=<BinaryCrossEntropyBackward>)\n"
          ]
        }
      ]
    },
    {
      "cell_type": "code",
      "metadata": {
        "colab": {
          "base_uri": "https://localhost:8080/",
          "height": 282
        },
        "id": "oSL0S_R7fYSJ",
        "outputId": "c743f1b4-3fd9-4509-87fc-ff08ae3f9d19"
      },
      "source": [
        "generated_image = generated_image.to(\"cpu\")\n",
        "plt.imshow(generated_image[78].detach().view(8,8))\n",
        "# For horizontal edge"
      ],
      "execution_count": null,
      "outputs": [
        {
          "output_type": "execute_result",
          "data": {
            "text/plain": [
              "<matplotlib.image.AxesImage at 0x7f59a131f550>"
            ]
          },
          "metadata": {},
          "execution_count": 10
        },
        {
          "output_type": "display_data",
          "data": {
            "image/png": "[encoded data removed]",
            "text/plain": [
              "<Figure size 432x288 with 1 Axes>"
            ]
          },
          "metadata": {
            "needs_background": "light"
          }
        }
      ]
    }
  ]
}