{
  "nbformat": 4,
  "nbformat_minor": 0,
  "metadata": {
    "colab": {
      "name": "cgan_main.ipynb",
      "provenance": [],
      "collapsed_sections": [],
      "mount_file_id": "1YNJgLwtxAOLdUW8Wd0pgMdTFF5z0DJzH",
      "authorship_tag": "ABX9TyNQB3lR3aCeoNLJ67kyoSN+",
      "include_colab_link": true
    },
    "kernelspec": {
      "name": "python3",
      "display_name": "Python 3"
    },
    "language_info": {
      "name": "python"
    },
    "accelerator": "GPU"
  },
  "cells": [
    {
      "cell_type": "markdown",
      "metadata": {
        "id": "view-in-github",
        "colab_type": "text"
      },
      "source": [
        "<a href=\"https://colab.research.google.com/github/adarsh2313/edge-generation-cGAN/blob/main/cgan_main.ipynb\" target=\"_parent\"><img src=\"https://colab.research.google.com/assets/colab-badge.svg\" alt=\"Open In Colab\"/></a>"
      ]
    },
    {
      "cell_type": "code",
      "metadata": {
        "id": "7nm43GQSalIV"
      },
      "source": [
        "import torch\n",
        "import torch.nn as nn \n",
        "import torch.optim as optim\n",
        "from torchvision.datasets import ImageFolder\n",
        "from torch.utils.data import DataLoader\n",
        "import torchvision.transforms as transforms\n",
        "%matplotlib inline \n",
        "import matplotlib.pyplot as plt"
      ],
      "execution_count": 1,
      "outputs": []
    },
    {
      "cell_type": "code",
      "metadata": {
        "id": "BHpbcfUuC15m"
      },
      "source": [
        "trans = transforms.Compose([transforms.Grayscale(),transforms.ToTensor()])\n",
        "data_set = ImageFolder('/content/drive/MyDrive/projects/Dataset',transform=trans)\n",
        "data_loader = DataLoader(data_set,batch_size=100)"
      ],
      "execution_count": 2,
      "outputs": []
    },
    {
      "cell_type": "code",
      "metadata": {
        "colab": {
          "base_uri": "https://localhost:8080/",
          "height": 249
        },
        "id": "LBYsrinFPOGm",
        "outputId": "8106a8f9-f1e9-4e1b-8835-7766489b350c"
      },
      "source": [
        "fig = plt.figure(figsize=(32,32))\n",
        "fig.add_subplot(8,8,1)\n",
        "plt.gray()\n",
        "plt.imshow(data_set[979][0].view(8,8))\n",
        "plt.title('vertical edge')\n",
        "fig.add_subplot(8,8,2)\n",
        "plt.imshow(data_set[250][0].view(8,8))\n",
        "plt.title('horizontal edge')\n",
        "plt.show()"
      ],
      "execution_count": 3,
      "outputs": [
        {
          "output_type": "display_data",
          "data": {
            "image/png": "[encoded data removed]",
            "text/plain": [
              "<Figure size 2304x2304 with 2 Axes>"
            ]
          },
          "metadata": {
            "needs_background": "light"
          }
        }
      ]
    },
    {
      "cell_type": "code",
      "metadata": {
        "colab": {
          "base_uri": "https://localhost:8080/"
        },
        "id": "0TIIxOqrguKR",
        "outputId": "c6280925-78d1-4ade-b3ef-4cd2c59a1162"
      },
      "source": [
        "device = torch.device(\"cuda\")\n",
        "torch.cuda.empty_cache()\n",
        "from model1 import generator,discriminator\n",
        "generator,discriminator = generator.to(device),discriminator.to(device)\n",
        "print(generator)\n",
        "print(discriminator)"
      ],
      "execution_count": 4,
      "outputs": [
        {
          "output_type": "stream",
          "name": "stdout",
          "text": [
            "Generator(\n",
            "  (embed): Embedding(2, 64)\n",
            "  (changenoise): Sequential(\n",
            "    (0): Linear(in_features=100, out_features=32704, bias=True)\n",
            "    (1): ReLU()\n",
            "  )\n",
            "  (model): Sequential(\n",
            "    (0): ConvTranspose2d(512, 256, kernel_size=(3, 3), stride=(1, 1), padding=(1, 1), bias=False)\n",
            "    (1): BatchNorm2d(256, eps=1e-05, momentum=0.1, affine=True, track_running_stats=True)\n",
            "    (2): ReLU()\n",
            "    (3): ConvTranspose2d(256, 128, kernel_size=(3, 3), stride=(1, 1), padding=(1, 1), bias=False)\n",
            "    (4): BatchNorm2d(128, eps=1e-05, momentum=0.1, affine=True, track_running_stats=True)\n",
            "    (5): ReLU()\n",
            "    (6): ConvTranspose2d(128, 64, kernel_size=(3, 3), stride=(1, 1), padding=(1, 1), bias=False)\n",
            "    (7): BatchNorm2d(64, eps=1e-05, momentum=0.1, affine=True, track_running_stats=True)\n",
            "    (8): ReLU()\n",
            "    (9): ConvTranspose2d(64, 32, kernel_size=(3, 3), stride=(1, 1), padding=(1, 1), bias=False)\n",
            "    (10): BatchNorm2d(32, eps=1e-05, momentum=0.1, affine=True, track_running_stats=True)\n",
            "    (11): ReLU()\n",
            "    (12): ConvTranspose2d(32, 16, kernel_size=(3, 3), stride=(1, 1), padding=(1, 1), bias=False)\n",
            "    (13): BatchNorm2d(16, eps=1e-05, momentum=0.1, affine=True, track_running_stats=True)\n",
            "    (14): ReLU()\n",
            "    (15): ConvTranspose2d(16, 8, kernel_size=(3, 3), stride=(1, 1), padding=(1, 1), bias=False)\n",
            "    (16): BatchNorm2d(8, eps=1e-05, momentum=0.1, affine=True, track_running_stats=True)\n",
            "    (17): ReLU()\n",
            "    (18): ConvTranspose2d(8, 1, kernel_size=(3, 3), stride=(1, 1), padding=(1, 1), bias=False)\n",
            "    (19): Tanh()\n",
            "  )\n",
            ")\n",
            "Discriminator(\n",
            "  (embed): Embedding(2, 64)\n",
            "  (model): Sequential(\n",
            "    (0): Conv2d(2, 32, kernel_size=(3, 3), stride=(2, 2), bias=False)\n",
            "    (1): BatchNorm2d(32, eps=1e-05, momentum=0.1, affine=True, track_running_stats=True)\n",
            "    (2): ReLU()\n",
            "    (3): Conv2d(32, 64, kernel_size=(3, 3), stride=(2, 2), bias=False)\n",
            "    (4): BatchNorm2d(64, eps=1e-05, momentum=0.1, affine=True, track_running_stats=True)\n",
            "    (5): ReLU()\n",
            "    (6): Flatten(start_dim=1, end_dim=-1)\n",
            "    (7): Linear(in_features=64, out_features=1, bias=True)\n",
            "    (8): Sigmoid()\n",
            "  )\n",
            ")\n"
          ]
        }
      ]
    },
    {
      "cell_type": "markdown",
      "metadata": {
        "id": "1MMpjZ2jEHMY"
      },
      "source": [
        "Training function:"
      ]
    },
    {
      "cell_type": "code",
      "metadata": {
        "id": "QgY4d2DiEy94"
      },
      "source": [
        "n_epoch = 25\n",
        "batch_size = 100\n",
        "D_optimizer = optim.Adam(discriminator.parameters(), lr=0.002)\n",
        "G_optimizer = optim.Adam(generator.parameters(), lr=0.002)\n",
        "dloss = nn.BCELoss()\n",
        "gloss = nn.BCELoss()"
      ],
      "execution_count": 5,
      "outputs": []
    },
    {
      "cell_type": "code",
      "metadata": {
        "colab": {
          "base_uri": "https://localhost:8080/"
        },
        "id": "JSDk4tJlJwO2",
        "outputId": "c3ce1be0-d535-4eab-c492-47875e86bed1"
      },
      "source": [
        "G_loss_list,D_loss_list = [],[]\n",
        "\n",
        "for epoch in range(n_epoch):\n",
        "  \n",
        "  for _,inputs in enumerate(data_loader):\n",
        "\n",
        "    real_images,label = inputs\n",
        "    real_images,label = real_images.to(device),label.to(device)\n",
        "\n",
        "    noise = torch.randn(batch_size,100).to(device)\n",
        "    fake_target = torch.zeros(batch_size,1).to(device)\n",
        "    real_target = torch.ones(batch_size,1).to(device)\n",
        "\n",
        "    D_optimizer.zero_grad()\n",
        "    xx = discriminator(real_images,label)\n",
        "    D_real_loss = dloss(xx, real_target)\n",
        "\n",
        "    generated_image = generator(noise, fake_target.int())\n",
        "    output = discriminator(generated_image, label)\n",
        "    D_fake_loss = dloss(output, fake_target)\n",
        "\n",
        "    # For discriminator:\n",
        "    D_total_loss = (D_real_loss + D_fake_loss)/2\n",
        "    D_total_loss = D_total_loss.to(torch.float32)\n",
        "    D_loss_list.append(D_total_loss)\n",
        "    D_total_loss.backward(retain_graph=True)\n",
        "    D_optimizer.step()\n",
        "\n",
        "    # For generator:\n",
        "    G_optimizer.zero_grad()\n",
        "    yy = discriminator(generated_image, label)\n",
        "    G_loss = gloss(yy, real_target)\n",
        "    G_loss_list.append(G_loss)\n",
        "    G_loss.backward()\n",
        "    G_optimizer.step()\n",
        "\n",
        "  print('D_loss:',D_total_loss,'G_loss:',G_loss)"
      ],
      "execution_count": 6,
      "outputs": [
        {
          "output_type": "stream",
          "name": "stdout",
          "text": [
            "D_loss: tensor(0.6736, device='cuda:0', grad_fn=<DivBackward0>) G_loss: tensor(0.7262, device='cuda:0', grad_fn=<BinaryCrossEntropyBackward>)\n",
            "D_loss: tensor(0.6580, device='cuda:0', grad_fn=<DivBackward0>) G_loss: tensor(0.7176, device='cuda:0', grad_fn=<BinaryCrossEntropyBackward>)\n",
            "D_loss: tensor(0.6448, device='cuda:0', grad_fn=<DivBackward0>) G_loss: tensor(0.7497, device='cuda:0', grad_fn=<BinaryCrossEntropyBackward>)\n",
            "D_loss: tensor(0.6471, device='cuda:0', grad_fn=<DivBackward0>) G_loss: tensor(0.7064, device='cuda:0', grad_fn=<BinaryCrossEntropyBackward>)\n",
            "D_loss: tensor(0.6186, device='cuda:0', grad_fn=<DivBackward0>) G_loss: tensor(0.8143, device='cuda:0', grad_fn=<BinaryCrossEntropyBackward>)\n",
            "D_loss: tensor(0.6215, device='cuda:0', grad_fn=<DivBackward0>) G_loss: tensor(0.7811, device='cuda:0', grad_fn=<BinaryCrossEntropyBackward>)\n",
            "D_loss: tensor(0.6123, device='cuda:0', grad_fn=<DivBackward0>) G_loss: tensor(0.7799, device='cuda:0', grad_fn=<BinaryCrossEntropyBackward>)\n",
            "D_loss: tensor(0.5882, device='cuda:0', grad_fn=<DivBackward0>) G_loss: tensor(0.8184, device='cuda:0', grad_fn=<BinaryCrossEntropyBackward>)\n",
            "D_loss: tensor(0.5769, device='cuda:0', grad_fn=<DivBackward0>) G_loss: tensor(0.8381, device='cuda:0', grad_fn=<BinaryCrossEntropyBackward>)\n",
            "D_loss: tensor(0.5513, device='cuda:0', grad_fn=<DivBackward0>) G_loss: tensor(0.8311, device='cuda:0', grad_fn=<BinaryCrossEntropyBackward>)\n",
            "D_loss: tensor(0.5542, device='cuda:0', grad_fn=<DivBackward0>) G_loss: tensor(0.8469, device='cuda:0', grad_fn=<BinaryCrossEntropyBackward>)\n",
            "D_loss: tensor(0.5312, device='cuda:0', grad_fn=<DivBackward0>) G_loss: tensor(0.9456, device='cuda:0', grad_fn=<BinaryCrossEntropyBackward>)\n",
            "D_loss: tensor(0.5046, device='cuda:0', grad_fn=<DivBackward0>) G_loss: tensor(0.9674, device='cuda:0', grad_fn=<BinaryCrossEntropyBackward>)\n",
            "D_loss: tensor(0.4857, device='cuda:0', grad_fn=<DivBackward0>) G_loss: tensor(1.0186, device='cuda:0', grad_fn=<BinaryCrossEntropyBackward>)\n",
            "D_loss: tensor(0.4991, device='cuda:0', grad_fn=<DivBackward0>) G_loss: tensor(0.9580, device='cuda:0', grad_fn=<BinaryCrossEntropyBackward>)\n",
            "D_loss: tensor(0.4704, device='cuda:0', grad_fn=<DivBackward0>) G_loss: tensor(1.0760, device='cuda:0', grad_fn=<BinaryCrossEntropyBackward>)\n",
            "D_loss: tensor(0.5110, device='cuda:0', grad_fn=<DivBackward0>) G_loss: tensor(0.9925, device='cuda:0', grad_fn=<BinaryCrossEntropyBackward>)\n",
            "D_loss: tensor(0.5007, device='cuda:0', grad_fn=<DivBackward0>) G_loss: tensor(1.0708, device='cuda:0', grad_fn=<BinaryCrossEntropyBackward>)\n",
            "D_loss: tensor(0.4870, device='cuda:0', grad_fn=<DivBackward0>) G_loss: tensor(0.9818, device='cuda:0', grad_fn=<BinaryCrossEntropyBackward>)\n",
            "D_loss: tensor(0.4705, device='cuda:0', grad_fn=<DivBackward0>) G_loss: tensor(1.0936, device='cuda:0', grad_fn=<BinaryCrossEntropyBackward>)\n",
            "D_loss: tensor(0.4496, device='cuda:0', grad_fn=<DivBackward0>) G_loss: tensor(1.1510, device='cuda:0', grad_fn=<BinaryCrossEntropyBackward>)\n",
            "D_loss: tensor(0.4142, device='cuda:0', grad_fn=<DivBackward0>) G_loss: tensor(1.0730, device='cuda:0', grad_fn=<BinaryCrossEntropyBackward>)\n",
            "D_loss: tensor(0.4243, device='cuda:0', grad_fn=<DivBackward0>) G_loss: tensor(1.3224, device='cuda:0', grad_fn=<BinaryCrossEntropyBackward>)\n",
            "D_loss: tensor(0.3621, device='cuda:0', grad_fn=<DivBackward0>) G_loss: tensor(1.2952, device='cuda:0', grad_fn=<BinaryCrossEntropyBackward>)\n",
            "D_loss: tensor(0.3875, device='cuda:0', grad_fn=<DivBackward0>) G_loss: tensor(1.1996, device='cuda:0', grad_fn=<BinaryCrossEntropyBackward>)\n"
          ]
        }
      ]
    },
    {
      "cell_type": "code",
      "metadata": {
        "colab": {
          "base_uri": "https://localhost:8080/",
          "height": 282
        },
        "id": "oSL0S_R7fYSJ",
        "outputId": "da819bcc-f0a2-417f-ce4a-e96ba12a854a"
      },
      "source": [
        "generated_image = generated_image.to(\"cpu\")\n",
        "plt.imshow(generated_image[88].detach().view(8,8))"
      ],
      "execution_count": 16,
      "outputs": [
        {
          "output_type": "execute_result",
          "data": {
            "text/plain": [
              "<matplotlib.image.AxesImage at 0x7f51b8eb1590>"
            ]
          },
          "metadata": {},
          "execution_count": 16
        },
        {
          "output_type": "display_data",
          "data": {
            "image/png": "[encoded data removed]",
            "text/plain": [
              "<Figure size 432x288 with 1 Axes>"
            ]
          },
          "metadata": {
            "needs_background": "light"
          }
        }
      ]
    }
  ]
}